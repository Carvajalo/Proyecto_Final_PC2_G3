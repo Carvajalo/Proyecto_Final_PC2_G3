{
 "cells": [
  {
   "cell_type": "code",
   "execution_count": null,
   "metadata": {},
   "outputs": [],
   "source": [
    "import dash\n",
    "import pandas as pd\n",
    "import psycopg2\n",
    "import plotly.express as px\n",
    "import plotly.graph_objects as go\n",
    "import pandas as pd\n",
    "import numpy as np"
   ]
  },
  {
   "cell_type": "code",
   "execution_count": null,
   "metadata": {},
   "outputs": [],
   "source": [
    "external_stylesheets = [\"https://codepen.io/chriddyp/pen/bWLwgP.css\"]\n",
    "app = dash.Dash(__name__, external_stylesheets=external_stylesheets)\n",
    "connection = psycopg2.connect(\"dbname=postgres host=db user=postgres password=example\")\n",
    "server = app.server\n",
    "data = pd.read_sql_query('SELECT * FROM datos',connection)"
   ]
  },
  {
   "cell_type": "markdown",
   "metadata": {},
   "source": [
    "## Gráfica 1"
   ]
  },
  {
   "cell_type": "markdown",
   "metadata": {},
   "source": [
    "Número de casos por ciudad"
   ]
  },
  {
   "cell_type": "code",
   "execution_count": null,
   "metadata": {},
   "outputs": [],
   "source": [
    "data = data[['id','ciudad','edad','genero','estado']].copy();\n",
    "fig1 = px.histogram(data, x=\"ciudad\")\n",
    "fig1.show()"
   ]
  },
  {
   "cell_type": "markdown",
   "metadata": {},
   "source": [
    "## Gráfica 2"
   ]
  },
  {
   "cell_type": "markdown",
   "metadata": {},
   "source": [
    "Porcentaje de casos por ciudad"
   ]
  },
  {
   "cell_type": "code",
   "execution_count": null,
   "metadata": {},
   "outputs": [],
   "source": [
    "allcities=np.array(data['ciudad'].unique())\n",
    "numeros=np.arange(start=1, stop=62, step=1)\n",
    "\n",
    "index=0\n",
    "arraydptos = np.zeros(61)\n",
    "for i in allcities:\n",
    "    temp=data[data['ciudad']==i]\n",
    "    arraydptos[index] =temp.shape[0];\n",
    "    index=index+1;\n",
    "\n",
    "arraydptos2=np.array(arraydptos)\n",
    "\n",
    "columns = ['ciudad'] \n",
    "dfdptos = pd.DataFrame(data=allcities ,index=numeros, columns=columns) \n",
    "\n",
    "dfdptos[\"id\"]=arraydptos2\n",
    "\n",
    "fig2 = px.pie(dfdptos, values=\"id\", names=\"ciudad\")\n",
    "fig2.show()"
   ]
  },
  {
   "cell_type": "markdown",
   "metadata": {},
   "source": [
    "## Gráfica 3"
   ]
  },
  {
   "cell_type": "markdown",
   "metadata": {},
   "source": [
    "Porcentaje infectados por rango de edad"
   ]
  },
  {
   "cell_type": "code",
   "execution_count": null,
   "metadata": {},
   "outputs": [],
   "source": [
    "edadmayor = (data['edad'] >= 55) & (data['edad'] <= 95)\n",
    "edadmedia = (data['edad'] >= 19) & (data['edad'] < 56)\n",
    "edadmenor = (data['edad'] >= 0) & (data['edad'] < 18)\n",
    "\n",
    "data.loc[edadmayor,'edad'] = 'edadmayor'\n",
    "data.loc[edadmedia,'edad'] = 'edadmedia'\n",
    "data.loc[edadmenor,'edad'] = 'edadmenor'\n",
    "columns = ['estado'] \n",
    "x1=data[data['edad']==\"edadmayor\"].shape[0]\n",
    "x2=data[data['edad']==\"edadmedia\"].shape[0]\n",
    "x3=data[data['edad']==\"edadmenor\"].shape[0]\n",
    "\n",
    "#Casos por edad\n",
    "datar = {'estado':  [x1, x2, x3]}\n",
    "dran = pd.DataFrame(data=datar,columns=columns) \n",
    "dran[\"edad\"]=['Personas Mayores[>54]', 'Jóvenes[>25]',' Menores de edad [25<]']\n",
    "fig3 = px.pie(dran, values=\"estado\", names=\"edad\")\n",
    "fig3.show()"
   ]
  },
  {
   "cell_type": "markdown",
   "metadata": {},
   "source": [
    "## Gráfica 4"
   ]
  },
  {
   "cell_type": "markdown",
   "metadata": {},
   "source": [
    "Casos por genero"
   ]
  },
  {
   "cell_type": "code",
   "execution_count": null,
   "metadata": {},
   "outputs": [],
   "source": [
    "data.drop(data.index[data['genero'] == \"m\"], inplace = True)\n",
    "fig4 = px.histogram(data, x=\"genero\")\n",
    "fig4.show()"
   ]
  }
 ],
 "metadata": {
  "language_info": {
   "name": "python"
  },
  "orig_nbformat": 4
 },
 "nbformat": 4,
 "nbformat_minor": 2
}
